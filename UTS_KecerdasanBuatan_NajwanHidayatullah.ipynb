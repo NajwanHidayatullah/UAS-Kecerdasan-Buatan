{
 "cells": [
  {
   "cell_type": "code",
   "execution_count": 9,
   "metadata": {
    "executionInfo": {
     "elapsed": 342,
     "status": "ok",
     "timestamp": 1730450718702,
     "user": {
      "displayName": "Najwan Akun Tugas",
      "userId": "02124814523821632401"
     },
     "user_tz": -420
    },
    "id": "Nxnq0OORotGv"
   },
   "outputs": [],
   "source": [
    "# note : librarry ini hanya digunakan untuk tampilan output\n",
    "import json"
   ]
  },
  {
   "cell_type": "code",
   "execution_count": 2,
   "metadata": {
    "executionInfo": {
     "elapsed": 24,
     "status": "ok",
     "timestamp": 1730450719064,
     "user": {
      "displayName": "Najwan Akun Tugas",
      "userId": "02124814523821632401"
     },
     "user_tz": -420
    },
    "id": "_e7gVItblkhL"
   },
   "outputs": [],
   "source": [
    "# Link : https://colab.research.google.com/drive/1XDK4KzpjyNjoe11wUcaN015iPvJT-_OR?usp=sharing\n",
    "# Data\n",
    "\n",
    "company_detail_list = [\n",
    "      {\n",
    "          'name': 'Company 1',\n",
    "          'domain': 'Retail',\n",
    "          'country': 'United States'\n",
    "      },\n",
    "      {\n",
    "          'name': 'Company 2',\n",
    "          'domain': 'Technology',\n",
    "          'country': 'United Kingdom'\n",
    "      },\n",
    "      {\n",
    "          'name': 'Company 3',\n",
    "          'domain': 'Healthcare',\n",
    "          'country': 'United States'\n",
    "      }\n",
    "  ]\n",
    "\n",
    "employee_detail_list = [\n",
    "     {\n",
    "          'name': 'EMP-0001',\n",
    "          'first_name': 'John',\n",
    "          'last_name': 'Doe',\n",
    "          'full_name': 'John Doe',\n",
    "          'company': 'Company 1',\n",
    "          'nationality': 'Australia'\n",
    "      },\n",
    "      {\n",
    "          'name': 'EMP-0002',\n",
    "          'first_name': 'Tom',\n",
    "          'last_name': 'Smith',\n",
    "          'full_name': 'Tom Smith',\n",
    "          'company': 'Company 2',\n",
    "          'nationality': 'United States'\n",
    "      },\n",
    "      {\n",
    "          'name': 'EMP-0003',\n",
    "          'first_name': 'Andrew',\n",
    "          'last_name': 'Sebastian',\n",
    "          'full_name': 'Andrew Sebastian',\n",
    "          'company': 'Company 3',\n",
    "          'nationality': 'United States'\n",
    "      },\n",
    "      {\n",
    "          'name': 'EMP-0005',\n",
    "          'first_name': 'Ying Han',\n",
    "          'last_name': 'Tan',\n",
    "          'full_name': 'Ying Han Tan',\n",
    "          'company': 'Company 1',\n",
    "          'nationality': 'Australia'\n",
    "      },\n",
    "      {\n",
    "          'name': 'EMP-0015',\n",
    "          'first_name': 'Kenneth',\n",
    "          'last_name': 'Ng',\n",
    "          'full_name': 'Kenneth Ng',\n",
    "          'company': 'Company 3',\n",
    "          'nationality': 'United States'\n",
    "      },\n",
    "      {\n",
    "          'name': 'EMP-0018',\n",
    "          'first_name': 'Rubby',\n",
    "          'last_name': 'Lee',\n",
    "          'full_name': 'Rubby Lee',\n",
    "          'company': 'Company 2',\n",
    "          'nationality': 'Hong Kong'\n",
    "      },\n",
    "     {\n",
    "          'name': 'EMP-0017',\n",
    "          'first_name': 'Robert',\n",
    "          'last_name': 'White',\n",
    "          'full_name': 'Robert White',\n",
    "          'company': 'Company 1',\n",
    "          'nationality': 'United Kingdom'\n",
    "      }\n",
    "  ]"
   ]
  },
  {
   "cell_type": "code",
   "execution_count": 3,
   "metadata": {
    "colab": {
     "base_uri": "https://localhost:8080/"
    },
    "executionInfo": {
     "elapsed": 22,
     "status": "ok",
     "timestamp": 1730450719065,
     "user": {
      "displayName": "Najwan Akun Tugas",
      "userId": "02124814523821632401"
     },
     "user_tz": -420
    },
    "id": "Ri3mggYFmtf2",
    "outputId": "b8663dac-38c3-4929-b9da-64bedfb21d19"
   },
   "outputs": [
    {
     "name": "stdout",
     "output_type": "stream",
     "text": [
      "Najwan Hidayatullah\n",
      "Task 1:\n",
      " [\n",
      "     {\n",
      "          \"name\": \"Company 3\"\n",
      "     },\n",
      "     {\n",
      "          \"name\": \"Company 2\"\n",
      "     },\n",
      "     {\n",
      "          \"name\": \"Company 1\"\n",
      "     }\n",
      "]\n"
     ]
    }
   ],
   "source": [
    "# Jawaban Task 1: Mengambil daftar semua perusahaan dan mengurutkannya berdasarkan nama perusahaan dalam urutan terbalik\n",
    "sorted_companies = sorted([{'name': company['name']} for company in company_detail_list], key=lambda x: x['name'], reverse=True)\n",
    "print(\"Najwan Hidayatullah\\nTask 1:\\n\", json.dumps(sorted_companies, indent=5))"
   ]
  },
  {
   "cell_type": "code",
   "execution_count": 4,
   "metadata": {
    "colab": {
     "base_uri": "https://localhost:8080/"
    },
    "executionInfo": {
     "elapsed": 18,
     "status": "ok",
     "timestamp": 1730450719065,
     "user": {
      "displayName": "Najwan Akun Tugas",
      "userId": "02124814523821632401"
     },
     "user_tz": -420
    },
    "id": "ukTj73oEnCTT",
    "outputId": "c6d08eee-52ee-4262-839a-412f7d8975d3"
   },
   "outputs": [
    {
     "name": "stdout",
     "output_type": "stream",
     "text": [
      "221011402857\n",
      "Task 2:\n",
      "Company 1: Retail (United States)\n",
      "Company 2: Technology (United Kingdom)\n",
      "Company 3: Healthcare (United States)\n"
     ]
    }
   ],
   "source": [
    "# Jawaban Task 2: Mencetak semua nilai Domain di setiap perusahaan\n",
    "print(\"221011402857\\nTask 2:\")\n",
    "for company in company_detail_list:\n",
    "    print(f\"{company['name']}: {company['domain']} ({company['country']})\")"
   ]
  },
  {
   "cell_type": "code",
   "execution_count": 5,
   "metadata": {
    "colab": {
     "base_uri": "https://localhost:8080/"
    },
    "executionInfo": {
     "elapsed": 14,
     "status": "ok",
     "timestamp": 1730450719065,
     "user": {
      "displayName": "Najwan Akun Tugas",
      "userId": "02124814523821632401"
     },
     "user_tz": -420
    },
    "id": "RCUjZxxBnc4j",
    "outputId": "ceb060f6-8da0-43cf-f88c-80da5588114c"
   },
   "outputs": [
    {
     "name": "stdout",
     "output_type": "stream",
     "text": [
      "05TPLE018\n",
      "Task 3:\n",
      " {\n",
      "     \"Retail\": [\n",
      "          \"John Doe\",\n",
      "          \"Ying Han Tan\",\n",
      "          \"Robert White\"\n",
      "     ],\n",
      "     \"Technology\": [\n",
      "          \"Tom Smith\",\n",
      "          \"Rubby Lee\"\n",
      "     ],\n",
      "     \"Healthcare\": [\n",
      "          \"Andrew Sebastian\",\n",
      "          \"Kenneth Ng\"\n",
      "     ]\n",
      "}\n"
     ]
    }
   ],
   "source": [
    "# Jawaban Task 3: Mengelompokkan semua karyawan berdasarkan domain perusahaan\n",
    "employees_by_domain = {}\n",
    "domain_map = {company['name']: company['domain'] for company in company_detail_list}\n",
    "\n",
    "for employee in employee_detail_list:\n",
    "    domain = domain_map[employee['company']]\n",
    "    if domain not in employees_by_domain:\n",
    "        employees_by_domain[domain] = []\n",
    "    employees_by_domain[domain].append(employee['full_name'])\n",
    "\n",
    "print(\"05TPLE018\\nTask 3:\\n\", json.dumps(employees_by_domain, indent=5))\n"
   ]
  },
  {
   "cell_type": "code",
   "execution_count": 6,
   "metadata": {
    "colab": {
     "base_uri": "https://localhost:8080/"
    },
    "executionInfo": {
     "elapsed": 455,
     "status": "ok",
     "timestamp": 1730450719513,
     "user": {
      "displayName": "Najwan Akun Tugas",
      "userId": "02124814523821632401"
     },
     "user_tz": -420
    },
    "id": "d2b00p4QnpkW",
    "outputId": "195c3f33-ee0c-4e67-993c-2b6883d8e639"
   },
   "outputs": [
    {
     "name": "stdout",
     "output_type": "stream",
     "text": [
      "UTS Kecerdasan Buatan\n",
      "Task 4:\n",
      " [\n",
      "     {\n",
      "          \"full_name\": \"John Doe\",\n",
      "          \"company\": \"Company 1\",\n",
      "          \"country\": \"United States\"\n",
      "     },\n",
      "     {\n",
      "          \"full_name\": \"Tom Smith\",\n",
      "          \"company\": \"Company 2\",\n",
      "          \"country\": \"United Kingdom\"\n",
      "     },\n",
      "     {\n",
      "          \"full_name\": \"Andrew Sebastian\",\n",
      "          \"company\": \"Company 3\",\n",
      "          \"country\": \"United States\"\n",
      "     },\n",
      "     {\n",
      "          \"full_name\": \"Ying Han Tan\",\n",
      "          \"company\": \"Company 1\",\n",
      "          \"country\": \"United States\"\n",
      "     },\n",
      "     {\n",
      "          \"full_name\": \"Kenneth Ng\",\n",
      "          \"company\": \"Company 3\",\n",
      "          \"country\": \"United States\"\n",
      "     },\n",
      "     {\n",
      "          \"full_name\": \"Rubby Lee\",\n",
      "          \"company\": \"Company 2\",\n",
      "          \"country\": \"United Kingdom\"\n",
      "     },\n",
      "     {\n",
      "          \"full_name\": \"Robert White\",\n",
      "          \"company\": \"Company 1\",\n",
      "          \"country\": \"United States\"\n",
      "     }\n",
      "]\n"
     ]
    }
   ],
   "source": [
    "# Jawaban Task 4: Mengembalikan karyawan dengan negara perusahaannya\n",
    "employees_with_country = []\n",
    "for employee in employee_detail_list:\n",
    "    company_country = next(company['country'] for company in company_detail_list if company['name'] == employee['company'])\n",
    "    employees_with_country.append({\n",
    "        \"full_name\": employee['full_name'],\n",
    "        \"company\": employee['company'],\n",
    "        \"country\": company_country\n",
    "    })\n",
    "\n",
    "print(\"UTS Kecerdasan Buatan\\nTask 4:\\n\", json.dumps(employees_with_country, indent=5))"
   ]
  },
  {
   "cell_type": "code",
   "execution_count": 7,
   "metadata": {
    "colab": {
     "base_uri": "https://localhost:8080/"
    },
    "executionInfo": {
     "elapsed": 4,
     "status": "ok",
     "timestamp": 1730450719513,
     "user": {
      "displayName": "Najwan Akun Tugas",
      "userId": "02124814523821632401"
     },
     "user_tz": -420
    },
    "id": "OoYqO1KlrjTV",
    "outputId": "9b64692c-d728-44fc-b0d1-7ddf84447687"
   },
   "outputs": [
    {
     "name": "stdout",
     "output_type": "stream",
     "text": [
      "Dosen: Agung Perdananto\n",
      "Task 5:\n",
      " [\n",
      "     {\n",
      "          \"company\": \"Company 1\",\n",
      "          \"employee_nationality\": {\n",
      "               \"Australia\": 2,\n",
      "               \"United Kingdom\": 1\n",
      "          }\n",
      "     },\n",
      "     {\n",
      "          \"company\": \"Company 2\",\n",
      "          \"employee_nationality\": {\n",
      "               \"United States\": 1,\n",
      "               \"Hong Kong\": 1\n",
      "          }\n",
      "     },\n",
      "     {\n",
      "          \"company\": \"Company 3\",\n",
      "          \"employee_nationality\": {\n",
      "               \"United States\": 2\n",
      "          }\n",
      "     }\n",
      "]\n"
     ]
    }
   ],
   "source": [
    "# Jawaban Task 5: Mengembalikan perusahaan dengan jumlah kewarganegaraan karyawan yang bekerja di perusahaan tersebut\n",
    "companies_with_nationality = []\n",
    "for company in company_detail_list:\n",
    "    nationality_count = {}\n",
    "    for employee in employee_detail_list:\n",
    "        if employee['company'] == company['name']:\n",
    "            nationality = employee['nationality']\n",
    "            if nationality in nationality_count:\n",
    "                nationality_count[nationality] += 1\n",
    "            else:\n",
    "                nationality_count[nationality] = 1\n",
    "    companies_with_nationality.append({\n",
    "        \"company\": company['name'],\n",
    "        \"employee_nationality\": nationality_count\n",
    "    })\n",
    "\n",
    "print(\"Dosen: Agung Perdananto\\nTask 5:\\n\", json.dumps(companies_with_nationality, indent=5))"
   ]
  }
 ],
 "metadata": {
  "colab": {
   "authorship_tag": "ABX9TyNzNFEIyXXEjqhV64nU8evR",
   "provenance": []
  },
  "kernelspec": {
   "display_name": "Python 3",
   "name": "python3"
  },
  "language_info": {
   "codemirror_mode": {
    "name": "ipython",
    "version": 3
   },
   "file_extension": ".py",
   "mimetype": "text/x-python",
   "name": "python",
   "nbconvert_exporter": "python",
   "pygments_lexer": "ipython3",
   "version": "3.13.0"
  }
 },
 "nbformat": 4,
 "nbformat_minor": 0
}
